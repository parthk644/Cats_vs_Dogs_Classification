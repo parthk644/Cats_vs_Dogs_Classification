{
  "nbformat": 4,
  "nbformat_minor": 0,
  "metadata": {
    "colab": {
      "provenance": []
    },
    "kernelspec": {
      "name": "python3",
      "display_name": "Python 3"
    },
    "language_info": {
      "name": "python"
    }
  },
  "cells": [
    {
      "cell_type": "code",
      "execution_count": null,
      "metadata": {
        "id": "YKrzz5eFUdLu"
      },
      "outputs": [],
      "source": [
        "import opendatasets as od\n",
        "import os\n",
        "import numpy as np\n",
        "import cv2\n",
        "from sklearn.model_selection import train_test_split\n",
        "from sklearn import svm"
      ]
    },
    {
      "cell_type": "code",
      "source": [
        "dir='/kaggle/input/dogs-cats-images/dataset/'"
      ],
      "metadata": {
        "id": "qL_nSOmZUuI9"
      },
      "execution_count": null,
      "outputs": []
    },
    {
      "cell_type": "code",
      "source": [
        "categories = ['cats', 'dogs']\n",
        "test_dir = '/kaggle/input/dogs-cats-images/dataset/test_set/'\n",
        "train_dir = '/kaggle/input/dogs-cats-images/dataset/training_set/'\n",
        "\n",
        "data = []\n",
        "\n",
        "for i in categories:\n",
        "    path = os.path.join(train_dir, i)\n",
        "     label = categories.index(i)\n",
        "\n",
        "    for img in os.listdir(path):\n",
        "        imgpath = os.path.join(path, img)\n",
        "        pet_img = cv2.imread(imgpath, 0)\n",
        "        pet_img = cv2.resize(pet_img, (50, 50))\n",
        "        image = np.array(pet_img).flatten()\n",
        "        data.append([image, label])\n",
        "\n",
        "print(len(data))\n"
      ],
      "metadata": {
        "id": "kDMBbLtdawpQ"
      },
      "execution_count": null,
      "outputs": []
    },
    {
      "cell_type": "code",
      "source": [
        "print(data[11])"
      ],
      "metadata": {
        "id": "euGb04vsV-vq"
      },
      "execution_count": null,
      "outputs": []
    },
    {
      "cell_type": "code",
      "source": [
        "features=[]\n",
        "labels=[]\n",
        "\n",
        "for feature,label in data:\n",
        "    features.append(feature)\n",
        "    labels.append(label)"
      ],
      "metadata": {
        "id": "zJW2mEaCWAzL"
      },
      "execution_count": null,
      "outputs": []
    },
    {
      "cell_type": "code",
      "source": [
        "x_train,x_test,y_train,y_test=train_test_split(features,labels,test_size=0.20,random_state=77)"
      ],
      "metadata": {
        "id": "eYbL2q6JWC3H"
      },
      "execution_count": null,
      "outputs": []
    },
    {
      "cell_type": "code",
      "source": [
        "model=svm.SVC(C=1,kernel='poly',gamma='auto')"
      ],
      "metadata": {
        "id": "XmCP3ThxWFDg"
      },
      "execution_count": null,
      "outputs": []
    },
    {
      "cell_type": "code",
      "source": [
        "model.fit(x_train,y_train)"
      ],
      "metadata": {
        "id": "z8KcfHQAWHJ1"
      },
      "execution_count": null,
      "outputs": []
    },
    {
      "cell_type": "code",
      "source": [
        "prediction=model.predict(x_test)\n",
        "prediction"
      ],
      "metadata": {
        "id": "zQZF7SkaWJnv"
      },
      "execution_count": null,
      "outputs": []
    },
    {
      "cell_type": "code",
      "source": [
        "accuracy= model.score(x_test,y_test)\n",
        "accuracy"
      ],
      "metadata": {
        "id": "JrjIkM_nWMId"
      },
      "execution_count": null,
      "outputs": []
    }
  ]
}